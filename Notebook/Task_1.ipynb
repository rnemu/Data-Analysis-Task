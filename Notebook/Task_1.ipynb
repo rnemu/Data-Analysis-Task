{
 "cells": [
  {
   "cell_type": "code",
   "execution_count": 1,
   "id": "3c1c06f5",
   "metadata": {},
   "outputs": [],
   "source": [
    "#import libraries\n",
    "import numpy as np\n",
    "import pandas as pd"
   ]
  },
  {
   "cell_type": "code",
   "execution_count": 2,
   "id": "8a597536",
   "metadata": {},
   "outputs": [],
   "source": [
    "# Read the data\n",
    "data1 = pd.read_csv('Records Matching Task.xlsx - data1.csv')\n",
    "data2 = pd.read_csv('Records Matching Task.xlsx - data2.csv')"
   ]
  },
  {
   "cell_type": "code",
   "execution_count": 3,
   "id": "0fbc0d72",
   "metadata": {},
   "outputs": [],
   "source": [
    "# create a column\n",
    "data1['lrecord']=data1['Order ID']+data1['Product ID']\n",
    "data2['rrecord']=data2['Order ID']+data2['Product ID']"
   ]
  },
  {
   "cell_type": "markdown",
   "id": "45a376a2",
   "metadata": {},
   "source": [
    "# Question 1"
   ]
  },
  {
   "cell_type": "markdown",
   "id": "5abf6750",
   "metadata": {},
   "source": [
    "How to identify the Records (Order ID + Product ID combination) present in data1 but missing in data2 \n",
    "(Specify the number of records missing in your answer)\n"
   ]
  },
  {
   "cell_type": "code",
   "execution_count": 4,
   "id": "19dc20db",
   "metadata": {},
   "outputs": [],
   "source": [
    "## We have to do left join then we get all the records from data1 table then we have to take\n",
    "##the missing data of data2['rrecord'] column\n",
    "tablelmerge=pd.merge(left=data1,right=data2,how='left',left_on='lrecord',right_on='rrecord')"
   ]
  },
  {
   "cell_type": "code",
   "execution_count": 5,
   "id": "8c64ae15",
   "metadata": {},
   "outputs": [
    {
     "data": {
      "text/plain": [
       "507"
      ]
     },
     "execution_count": 5,
     "metadata": {},
     "output_type": "execute_result"
    }
   ],
   "source": [
    "present_in_data1_but_missing_in_data2=tablelmerge['rrecord'].isna().sum()\n",
    "present_in_data1_but_missing_in_data2"
   ]
  },
  {
   "cell_type": "markdown",
   "id": "4ba0bc73",
   "metadata": {},
   "source": [
    "# Question 2"
   ]
  },
  {
   "cell_type": "markdown",
   "id": "e05d9e0c",
   "metadata": {},
   "source": [
    "How to identify the Records (Order ID + Product ID combination) missing in data1 but present in data2 (Specify the number of records missing in your answer)\n"
   ]
  },
  {
   "cell_type": "code",
   "execution_count": 6,
   "id": "33f84cbf",
   "metadata": {},
   "outputs": [],
   "source": [
    "## We have to do right join then we get all the records from data2 table then we have to take\n",
    "##the missing data of data1['lrecord'] column\n",
    "tablermerge=pd.merge(left=data1,right=data2,how='right',left_on='lrecord',right_on='rrecord')"
   ]
  },
  {
   "cell_type": "code",
   "execution_count": 7,
   "id": "e4286293",
   "metadata": {},
   "outputs": [
    {
     "data": {
      "text/plain": [
       "508"
      ]
     },
     "execution_count": 7,
     "metadata": {},
     "output_type": "execute_result"
    }
   ],
   "source": [
    "present_in_data2_but_missing_in_data1=tablermerge['lrecord'].isna().sum()\n",
    "present_in_data2_but_missing_in_data1"
   ]
  },
  {
   "cell_type": "markdown",
   "id": "533d0e2d",
   "metadata": {},
   "source": [
    "# Question 3"
   ]
  },
  {
   "cell_type": "markdown",
   "id": "fb31e856",
   "metadata": {},
   "source": [
    " Find the Sum of the total Qty of Records missing in data1 but present in data2\n"
   ]
  },
  {
   "cell_type": "code",
   "execution_count": 8,
   "id": "f81ddfaf",
   "metadata": {},
   "outputs": [
    {
     "data": {
      "text/plain": [
       "1956"
      ]
     },
     "execution_count": 8,
     "metadata": {},
     "output_type": "execute_result"
    }
   ],
   "source": [
    "tablermerge[tablermerge['lrecord'].isna()]['Qty_y'].sum()"
   ]
  },
  {
   "cell_type": "markdown",
   "id": "e89e20df",
   "metadata": {},
   "source": [
    "# Question 4"
   ]
  },
  {
   "cell_type": "markdown",
   "id": "454ea2ae",
   "metadata": {},
   "source": [
    "Find the total number of unique records (Order ID + Product ID combination) present in the combined dataset of data1 and data2"
   ]
  },
  {
   "cell_type": "code",
   "execution_count": 9,
   "id": "f2e416b0",
   "metadata": {},
   "outputs": [
    {
     "data": {
      "text/plain": [
       "9986"
      ]
     },
     "execution_count": 9,
     "metadata": {},
     "output_type": "execute_result"
    }
   ],
   "source": [
    "# we have to do outer jion as  record is primary key in both table the all the records in the merged table are unique\n",
    "pd.merge(left=data1,right=data2,how='outer',left_on='lrecord',right_on='rrecord').shape[0]\n"
   ]
  }
 ],
 "metadata": {
  "kernelspec": {
   "display_name": "Python 3 (ipykernel)",
   "language": "python",
   "name": "python3"
  },
  "language_info": {
   "codemirror_mode": {
    "name": "ipython",
    "version": 3
   },
   "file_extension": ".py",
   "mimetype": "text/x-python",
   "name": "python",
   "nbconvert_exporter": "python",
   "pygments_lexer": "ipython3",
   "version": "3.9.5"
  }
 },
 "nbformat": 4,
 "nbformat_minor": 5
}
